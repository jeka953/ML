{
  "cells": [
    {
      "cell_type": "markdown",
      "id": "5372eb6b",
      "metadata": {
        "id": "5372eb6b"
      },
      "source": [
        "# Домашняя работа по регуляризации и оптимизации\n",
        "\n",
        "Ниже приводится корпус данных с двумя метками: 1 и -1. К данным применяется линейная модель классификации:\n",
        "\n",
        "$f(x, \\theta) = x_1 \\theta_1 + x_2 \\theta_2 + \\theta_3.$\n",
        "\n",
        "Предлагается подобрать параметры $\\theta$ минимизируя следующую функцию ошибки:\n",
        "\n",
        "$\\mathcal{L}(\\theta) = 0.1 \\|\\theta\\|^2 + \\frac{1}{N}\\sum\\limits_{i=1}^N \\max(0, 1 - y_i f(x_i, \\theta)).$\n",
        "\n",
        "Для оптимизации предлагается использовать метод градиентного спуска с 1000 шагами размера $0.1$ из начальной точки $(1, 1, 0)$."
      ]
    },
    {
      "cell_type": "code",
      "execution_count": 1,
      "id": "84be44bf",
      "metadata": {
        "id": "84be44bf"
      },
      "outputs": [],
      "source": [
        "import numpy as np\n",
        "import yaml"
      ]
    },
    {
      "cell_type": "code",
      "execution_count": 2,
      "id": "8e381337",
      "metadata": {
        "colab": {
          "base_uri": "https://localhost:8080/"
        },
        "id": "8e381337",
        "outputId": "bf90a8eb-10f6-42f6-d4b0-a61cb92e9387"
      },
      "outputs": [
        {
          "output_type": "stream",
          "name": "stdout",
          "text": [
            "Prediction: [ 1.   2.   1.   0.  -0.5]\n",
            "Loss: 0.5\n"
          ]
        }
      ],
      "source": [
        "X = np.array([[0, 1], [1, 1], [1, 0], [-0.5, 0.5], [0, -0.5]])\n",
        "\n",
        "y = np.array([1, 1, 1, -1, -1])\n",
        "\n",
        "theta0 = np.array([1.0, 1.0, 0.0])\n",
        "\n",
        "lr = 0.1\n",
        "\n",
        "def f(X, theta):\n",
        "    theta = np.asarray(theta)\n",
        "    return (X * theta[:2]).sum(axis=-1) + theta[2]\n",
        "\n",
        "def loss(X, y, theta):\n",
        "    theta = np.asarray(theta)\n",
        "    norm = (theta ** 2).sum()\n",
        "    delta_s = y * f(X, theta)\n",
        "    return lr * norm + np.mean(np.maximum(0, 1 - delta_s))\n",
        "\n",
        "print(\"Prediction:\", f(X, theta0))\n",
        "print(\"Loss:\", loss(X, y, theta0))"
      ]
    },
    {
      "cell_type": "code",
      "execution_count": 24,
      "id": "ca79f1da",
      "metadata": {
        "id": "ca79f1da"
      },
      "outputs": [],
      "source": [
        "def func(X, y, theta):\n",
        "    res = np.array([0.0, 0.0, 0.0])\n",
        "    theta = np.asarray(theta)\n",
        "    for i in range(5):\n",
        "        if 1 - y[i] * f(X[i], theta) > 0:\n",
        "            res -= y[i] * np.array([X[i][0], X[i][1], 1])\n",
        "    res /= len(y)\n",
        "    res += lr * 2 * theta\n",
        "    return res\n",
        "\n",
        "theta = theta0\n",
        "for i in range(1000):\n",
        "    theta -= lr * func(X, y, theta)"
      ]
    },
    {
      "cell_type": "code",
      "execution_count": 25,
      "id": "011ca5b7",
      "metadata": {
        "colab": {
          "base_uri": "https://localhost:8080/"
        },
        "id": "011ca5b7",
        "outputId": "dedaff54-ed64-45dd-a42e-9fb7ca2a0119"
      },
      "outputs": [
        {
          "output_type": "stream",
          "name": "stdout",
          "text": [
            "Prediction: [ 0.7427965   1.985593    0.985593   -0.37860175 -0.7572035 ]\n",
            "Loss: 0.48823072809111295\n"
          ]
        }
      ],
      "source": [
        "print(\"Prediction:\", f(X, theta))\n",
        "print(\"Loss:\", loss(X, y, theta))\n",
        "\n",
        "with open(\"submission.yaml\", \"w\") as fp:\n",
        "    yaml.safe_dump({\"tasks\": [{\"task1\": {\"answer\": theta.tolist()}}]}, fp)"
      ]
    }
  ],
  "metadata": {
    "colab": {
      "provenance": []
    },
    "kernelspec": {
      "display_name": "Python 3",
      "language": "python",
      "name": "python3"
    },
    "language_info": {
      "codemirror_mode": {
        "name": "ipython",
        "version": 3
      },
      "file_extension": ".py",
      "mimetype": "text/x-python",
      "name": "python",
      "nbconvert_exporter": "python",
      "pygments_lexer": "ipython3",
      "version": "3.8.9"
    },
    "gpuClass": "standard"
  },
  "nbformat": 4,
  "nbformat_minor": 5
}